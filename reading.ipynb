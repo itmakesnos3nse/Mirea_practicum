{
 "cells": [
  {
   "cell_type": "markdown",
   "metadata": {},
   "source": [
    "## Обработка полученных данных и первичный анализ"
   ]
  },
  {
   "cell_type": "markdown",
   "metadata": {},
   "source": [
    "импорты библиотек"
   ]
  },
  {
   "cell_type": "code",
   "execution_count": 53,
   "metadata": {},
   "outputs": [],
   "source": [
    "import pandas as pd\n",
    "import xml.etree.ElementTree as ET"
   ]
  },
  {
   "cell_type": "code",
   "execution_count": 54,
   "metadata": {},
   "outputs": [],
   "source": [
    "def xml_to_dataframe(xml_file):\n",
    "    tree = ET.parse(xml_file)\n",
    "    root = tree.getroot()\n",
    "\n",
    "    data = []\n",
    "    for article in root.findall(\"article\"):\n",
    "        data.append({\n",
    "            \"title\": article.find(\"title\").text,\n",
    "            \"link\": article.find(\"link\").text,\n",
    "            \"year\": article.find(\"year\").text,\n",
    "            \"authors\": article.find(\"authors\").text,\n",
    "            \"labels\": article.find(\"labels\").text\n",
    "        })\n",
    "    \n",
    "    return pd.DataFrame(data)\n",
    "\n",
    "df = xml_to_dataframe(\"articles.xml\")"
   ]
  },
  {
   "cell_type": "code",
   "execution_count": 55,
   "metadata": {},
   "outputs": [
    {
     "name": "stdout",
     "output_type": "stream",
     "text": [
      "Количество статей: 5000\n"
     ]
    }
   ],
   "source": [
    "print(f\"Количество статей: {len(df)}\")"
   ]
  },
  {
   "cell_type": "code",
   "execution_count": 56,
   "metadata": {},
   "outputs": [
    {
     "name": "stdout",
     "output_type": "stream",
     "text": [
      "year\n",
      "2009     878\n",
      "2010     820\n",
      "2008     701\n",
      "2007     523\n",
      "2006     492\n",
      "2005     315\n",
      "2011     297\n",
      "2004     207\n",
      "2003     195\n",
      "2001     121\n",
      "2002     100\n",
      "2000      88\n",
      "1999      81\n",
      "1998      78\n",
      "1997      59\n",
      "1996      23\n",
      "1995      22\n",
      "Name: count, dtype: int64\n"
     ]
    }
   ],
   "source": [
    "print(df[\"year\"].value_counts())\n"
   ]
  },
  {
   "cell_type": "code",
   "execution_count": 57,
   "metadata": {},
   "outputs": [
    {
     "name": "stdout",
     "output_type": "stream",
     "text": [
      "labels\n",
      "ВАК                   2926\n",
      "Scopus, ВАК            551\n",
      "Scopus, ВАК, ESCI      355\n",
      "ВАК, RSCI              314\n",
      "ВАК, CAS                36\n",
      "ВАК, ESCI               18\n",
      "ВАК, RSCI, ESCI         11\n",
      "Scopus, RSCI, ESCI       5\n",
      "Name: count, dtype: int64\n"
     ]
    }
   ],
   "source": [
    "print(df[\"labels\"].value_counts())\n"
   ]
  },
  {
   "cell_type": "code",
   "execution_count": 58,
   "metadata": {},
   "outputs": [
    {
     "name": "stdout",
     "output_type": "stream",
     "text": [
      "Средняя длина названия статьи: 9.294 слов\n"
     ]
    }
   ],
   "source": [
    "df[\"title_length\"] = df[\"title\"].apply(lambda x: len(x.split()))\n",
    "print(f\"Средняя длина названия статьи: {df['title_length'].mean()} слов\")\n"
   ]
  },
  {
   "cell_type": "code",
   "execution_count": 59,
   "metadata": {},
   "outputs": [
    {
     "data": {
      "text/html": [
       "<div>\n",
       "<style scoped>\n",
       "    .dataframe tbody tr th:only-of-type {\n",
       "        vertical-align: middle;\n",
       "    }\n",
       "\n",
       "    .dataframe tbody tr th {\n",
       "        vertical-align: top;\n",
       "    }\n",
       "\n",
       "    .dataframe thead th {\n",
       "        text-align: right;\n",
       "    }\n",
       "</style>\n",
       "<table border=\"1\" class=\"dataframe\">\n",
       "  <thead>\n",
       "    <tr style=\"text-align: right;\">\n",
       "      <th></th>\n",
       "      <th>title</th>\n",
       "      <th>link</th>\n",
       "      <th>year</th>\n",
       "      <th>authors</th>\n",
       "      <th>labels</th>\n",
       "      <th>title_length</th>\n",
       "    </tr>\n",
       "  </thead>\n",
       "  <tbody>\n",
       "    <tr>\n",
       "      <th>0</th>\n",
       "      <td>Онкоиммунология, гемобластозы</td>\n",
       "      <td>https://cyberleninka.ru/article/n/onkoimmunolo...</td>\n",
       "      <td>2009</td>\n",
       "      <td>None</td>\n",
       "      <td>Scopus, ВАК</td>\n",
       "      <td>2</td>\n",
       "    </tr>\n",
       "    <tr>\n",
       "      <th>1</th>\n",
       "      <td>Изменение функции гипофиз-гонадной системы у б...</td>\n",
       "      <td>https://cyberleninka.ru/article/n/izmenenie-fu...</td>\n",
       "      <td>2009</td>\n",
       "      <td>Иванова В. А., Левченко Н. Е., Вереникина Е. ...</td>\n",
       "      <td>Scopus, ВАК</td>\n",
       "      <td>11</td>\n",
       "    </tr>\n",
       "    <tr>\n",
       "      <th>2</th>\n",
       "      <td>Влияние некоторых фармакологических препаратов...</td>\n",
       "      <td>https://cyberleninka.ru/article/n/vliyanie-nek...</td>\n",
       "      <td>2007</td>\n",
       "      <td>Вернигора А. Н.</td>\n",
       "      <td>None</td>\n",
       "      <td>11</td>\n",
       "    </tr>\n",
       "    <tr>\n",
       "      <th>3</th>\n",
       "      <td>Повышение малыми дозами тиреоидных гормонов ус...</td>\n",
       "      <td>https://cyberleninka.ru/article/n/povyshenie-m...</td>\n",
       "      <td>2004</td>\n",
       "      <td>Городецкая И. В.</td>\n",
       "      <td>None</td>\n",
       "      <td>14</td>\n",
       "    </tr>\n",
       "    <tr>\n",
       "      <th>4</th>\n",
       "      <td>Потребление ГЛС в рамках программы ОНЛС в 2008 г.</td>\n",
       "      <td>https://cyberleninka.ru/article/n/potreblenie-...</td>\n",
       "      <td>2009</td>\n",
       "      <td>Паутова Екатерина</td>\n",
       "      <td>ВАК</td>\n",
       "      <td>9</td>\n",
       "    </tr>\n",
       "  </tbody>\n",
       "</table>\n",
       "</div>"
      ],
      "text/plain": [
       "                                               title  \\\n",
       "0                      Онкоиммунология, гемобластозы   \n",
       "1  Изменение функции гипофиз-гонадной системы у б...   \n",
       "2  Влияние некоторых фармакологических препаратов...   \n",
       "3  Повышение малыми дозами тиреоидных гормонов ус...   \n",
       "4  Потребление ГЛС в рамках программы ОНЛС в 2008 г.   \n",
       "\n",
       "                                                link   year  \\\n",
       "0  https://cyberleninka.ru/article/n/onkoimmunolo...  2009    \n",
       "1  https://cyberleninka.ru/article/n/izmenenie-fu...  2009    \n",
       "2  https://cyberleninka.ru/article/n/vliyanie-nek...  2007    \n",
       "3  https://cyberleninka.ru/article/n/povyshenie-m...  2004    \n",
       "4  https://cyberleninka.ru/article/n/potreblenie-...  2009    \n",
       "\n",
       "                                             authors       labels  \\\n",
       "0                                               None  Scopus, ВАК   \n",
       "1   Иванова В. А., Левченко Н. Е., Вереникина Е. ...  Scopus, ВАК   \n",
       "2                                    Вернигора А. Н.         None   \n",
       "3                                   Городецкая И. В.         None   \n",
       "4                                  Паутова Екатерина          ВАК   \n",
       "\n",
       "   title_length  \n",
       "0             2  \n",
       "1            11  \n",
       "2            11  \n",
       "3            14  \n",
       "4             9  "
      ]
     },
     "execution_count": 59,
     "metadata": {},
     "output_type": "execute_result"
    }
   ],
   "source": [
    "df.head()"
   ]
  },
  {
   "cell_type": "code",
   "execution_count": 60,
   "metadata": {},
   "outputs": [],
   "source": [
    "df['authors_count'] = df['authors'].apply(lambda x: len((x.split(','))) if x != None else 0) "
   ]
  },
  {
   "cell_type": "code",
   "execution_count": 61,
   "metadata": {},
   "outputs": [
    {
     "data": {
      "text/html": [
       "<div>\n",
       "<style scoped>\n",
       "    .dataframe tbody tr th:only-of-type {\n",
       "        vertical-align: middle;\n",
       "    }\n",
       "\n",
       "    .dataframe tbody tr th {\n",
       "        vertical-align: top;\n",
       "    }\n",
       "\n",
       "    .dataframe thead th {\n",
       "        text-align: right;\n",
       "    }\n",
       "</style>\n",
       "<table border=\"1\" class=\"dataframe\">\n",
       "  <thead>\n",
       "    <tr style=\"text-align: right;\">\n",
       "      <th></th>\n",
       "      <th>title</th>\n",
       "      <th>link</th>\n",
       "      <th>year</th>\n",
       "      <th>authors</th>\n",
       "      <th>labels</th>\n",
       "      <th>title_length</th>\n",
       "      <th>authors_count</th>\n",
       "    </tr>\n",
       "  </thead>\n",
       "  <tbody>\n",
       "    <tr>\n",
       "      <th>0</th>\n",
       "      <td>Онкоиммунология, гемобластозы</td>\n",
       "      <td>https://cyberleninka.ru/article/n/onkoimmunolo...</td>\n",
       "      <td>2009</td>\n",
       "      <td>None</td>\n",
       "      <td>Scopus, ВАК</td>\n",
       "      <td>2</td>\n",
       "      <td>0</td>\n",
       "    </tr>\n",
       "    <tr>\n",
       "      <th>1</th>\n",
       "      <td>Изменение функции гипофиз-гонадной системы у б...</td>\n",
       "      <td>https://cyberleninka.ru/article/n/izmenenie-fu...</td>\n",
       "      <td>2009</td>\n",
       "      <td>Иванова В. А., Левченко Н. Е., Вереникина Е. ...</td>\n",
       "      <td>Scopus, ВАК</td>\n",
       "      <td>11</td>\n",
       "      <td>4</td>\n",
       "    </tr>\n",
       "    <tr>\n",
       "      <th>2</th>\n",
       "      <td>Влияние некоторых фармакологических препаратов...</td>\n",
       "      <td>https://cyberleninka.ru/article/n/vliyanie-nek...</td>\n",
       "      <td>2007</td>\n",
       "      <td>Вернигора А. Н.</td>\n",
       "      <td>None</td>\n",
       "      <td>11</td>\n",
       "      <td>1</td>\n",
       "    </tr>\n",
       "    <tr>\n",
       "      <th>3</th>\n",
       "      <td>Повышение малыми дозами тиреоидных гормонов ус...</td>\n",
       "      <td>https://cyberleninka.ru/article/n/povyshenie-m...</td>\n",
       "      <td>2004</td>\n",
       "      <td>Городецкая И. В.</td>\n",
       "      <td>None</td>\n",
       "      <td>14</td>\n",
       "      <td>1</td>\n",
       "    </tr>\n",
       "    <tr>\n",
       "      <th>4</th>\n",
       "      <td>Потребление ГЛС в рамках программы ОНЛС в 2008 г.</td>\n",
       "      <td>https://cyberleninka.ru/article/n/potreblenie-...</td>\n",
       "      <td>2009</td>\n",
       "      <td>Паутова Екатерина</td>\n",
       "      <td>ВАК</td>\n",
       "      <td>9</td>\n",
       "      <td>1</td>\n",
       "    </tr>\n",
       "  </tbody>\n",
       "</table>\n",
       "</div>"
      ],
      "text/plain": [
       "                                               title  \\\n",
       "0                      Онкоиммунология, гемобластозы   \n",
       "1  Изменение функции гипофиз-гонадной системы у б...   \n",
       "2  Влияние некоторых фармакологических препаратов...   \n",
       "3  Повышение малыми дозами тиреоидных гормонов ус...   \n",
       "4  Потребление ГЛС в рамках программы ОНЛС в 2008 г.   \n",
       "\n",
       "                                                link   year  \\\n",
       "0  https://cyberleninka.ru/article/n/onkoimmunolo...  2009    \n",
       "1  https://cyberleninka.ru/article/n/izmenenie-fu...  2009    \n",
       "2  https://cyberleninka.ru/article/n/vliyanie-nek...  2007    \n",
       "3  https://cyberleninka.ru/article/n/povyshenie-m...  2004    \n",
       "4  https://cyberleninka.ru/article/n/potreblenie-...  2009    \n",
       "\n",
       "                                             authors       labels  \\\n",
       "0                                               None  Scopus, ВАК   \n",
       "1   Иванова В. А., Левченко Н. Е., Вереникина Е. ...  Scopus, ВАК   \n",
       "2                                    Вернигора А. Н.         None   \n",
       "3                                   Городецкая И. В.         None   \n",
       "4                                  Паутова Екатерина          ВАК   \n",
       "\n",
       "   title_length  authors_count  \n",
       "0             2              0  \n",
       "1            11              4  \n",
       "2            11              1  \n",
       "3            14              1  \n",
       "4             9              1  "
      ]
     },
     "execution_count": 61,
     "metadata": {},
     "output_type": "execute_result"
    }
   ],
   "source": [
    "df.head()"
   ]
  }
 ],
 "metadata": {
  "kernelspec": {
   "display_name": "Python 3",
   "language": "python",
   "name": "python3"
  },
  "language_info": {
   "codemirror_mode": {
    "name": "ipython",
    "version": 3
   },
   "file_extension": ".py",
   "mimetype": "text/x-python",
   "name": "python",
   "nbconvert_exporter": "python",
   "pygments_lexer": "ipython3",
   "version": "3.13.2"
  }
 },
 "nbformat": 4,
 "nbformat_minor": 2
}
